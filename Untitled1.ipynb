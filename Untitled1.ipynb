{
 "cells": [
  {
   "cell_type": "code",
   "execution_count": 11,
   "metadata": {},
   "outputs": [
    {
     "name": "stdout",
     "output_type": "stream",
     "text": [
      "my name is Muhammed Kazi\n",
      "y\n",
      "y name is\n",
      "izaK demmahuM si eman ym\n",
      "m aei uamdKz\n",
      "24\n",
      "my name is the Muhammed Kazi\n",
      "my name is Muhammed Kazi\n"
     ]
    }
   ],
   "source": [
    "str=\"my name is Muhammed Kazi\"\n",
    "print(str) #prints str\n",
    "print(str[1]) #prints 1st index str\n",
    "print(str[1:10]) #prints fromindex 1 to 10 str\n",
    "print(str[::-1]) #prints reverse string\n",
    "print(str[::2]) #prints string by skipping 1 character\n",
    "print(len(str))#prints length of string\n",
    "print(str.replace(\"is\",\"is the\"))\n",
    "# str[1]=\"Y\"\n",
    "print(str)"
   ]
  },
  {
   "cell_type": "code",
   "execution_count": 38,
   "metadata": {},
   "outputs": [
    {
     "name": "stdout",
     "output_type": "stream",
     "text": [
      "[1, 2, 3, 4]\n",
      "<class 'list'>\n",
      "2\n",
      "[4, 3, 2, 1]\n",
      "[1, 3]\n",
      "[1, 2, 3, 4, 5]\n",
      "[1, 2, 3, 4, 5, 6, 7, 8]\n",
      "[1, 0, 2, 3, 4, 5, 6, 7, 8]\n",
      "8\n",
      "4\n",
      "None\n",
      "[1, 0, 2, 3, 5, 7]\n",
      "4\n"
     ]
    }
   ],
   "source": [
    "listname=[1,2,3,4]\n",
    "print(listname) #prints list\n",
    "print(type(listname)) #prints type of object\n",
    "print(listname[1]) #prints 1st index value\n",
    "listname.reverse() #reverses list items\n",
    "print(listname) \n",
    "listname.reverse()\n",
    "print(listname[::2]) #prints skipping 1 index value\n",
    "listname.append(5)\n",
    "print(listname)\n",
    "listname.extend([6,7,8]) #advance feature of append\n",
    "print(listname)\n",
    "listname.insert(1,0) #to insert value at specified index \n",
    "print(listname)\n",
    "print(listname.pop()) #removes last item\n",
    "print(listname.pop(4)) #removes 4 value from list\n",
    "print(listname.remove(6)) #removes the specified index's value\n",
    "print(listname)\n",
    "\n",
    "x=[[1,2,3], #2D list  #1st row\n",
    "    [4,5,6]]          #2nd row\n",
    "print(x[1][0]) #prints 2nd row's 1st value"
   ]
  },
  {
   "cell_type": "code",
   "execution_count": 37,
   "metadata": {},
   "outputs": [
    {
     "name": "stdout",
     "output_type": "stream",
     "text": [
      "(1, 2, 3)\n"
     ]
    }
   ],
   "source": [
    "tuple1=(1,2,3) #tuple has round() brackets and list has square[] brackets\n",
    "print(tuple1) "
   ]
  },
  {
   "cell_type": "code",
   "execution_count": 39,
   "metadata": {},
   "outputs": [
    {
     "name": "stdout",
     "output_type": "stream",
     "text": [
      "{'h', 'd', 'u', 'm', 'a', 'e'}\n"
     ]
    }
   ],
   "source": [
    "set1=set(\"muhammed\") #set cannot store duplicate values\n",
    "print(set1)"
   ]
  },
  {
   "cell_type": "code",
   "execution_count": 1,
   "metadata": {},
   "outputs": [
    {
     "name": "stdout",
     "output_type": "stream",
     "text": [
      "{'name': 'Muhammed', 'age': 22, 'college': 'AIMS'}\n",
      "dict_keys(['name', 'age', 'college'])\n",
      "dict_items([('name', 'Muhammed'), ('age', 22), ('college', 'AIMS')])\n",
      "dict_values(['Muhammed', 22, 'AIMS'])\n"
     ]
    }
   ],
   "source": [
    "dict1={\"name\":\"Muhammed\",\"age\":22,\"college\":\"AIMS\"}\n",
    "print(dict1)\n",
    "print(dict1.keys())\n",
    "print(dict1.items())\n",
    "print(dict1.values())"
   ]
  },
  {
   "cell_type": "code",
   "execution_count": 3,
   "metadata": {},
   "outputs": [
    {
     "name": "stdout",
     "output_type": "stream",
     "text": [
      "[1 2 3]\n",
      "<class 'numpy.ndarray'>\n"
     ]
    }
   ],
   "source": [
    "#numpy\n",
    "import numpy\n",
    "array1=numpy.array([1,2,3]) #converting list into array\n",
    "print(array1) #prints array\n",
    "print(type(array1)) #prints type"
   ]
  },
  {
   "cell_type": "code",
   "execution_count": 5,
   "metadata": {},
   "outputs": [
    {
     "name": "stdout",
     "output_type": "stream",
     "text": [
      "[1 2 3]\n",
      "[4 5 6]\n"
     ]
    }
   ],
   "source": [
    "# selective function import\n",
    "from numpy import array\n",
    "my_array=array([1,2,3]) #writing list\n",
    "print(my_array)\n",
    "list1=[4,5,6]\n",
    "my_array2=array(list1) #passing list\n",
    "print(my_array2)\n"
   ]
  },
  {
   "cell_type": "code",
   "execution_count": 5,
   "metadata": {},
   "outputs": [
    {
     "name": "stdout",
     "output_type": "stream",
     "text": [
      "Hello Muhammed\n",
      "None\n"
     ]
    }
   ],
   "source": [
    "import name\n",
    "print(name.showName())"
   ]
  },
  {
   "cell_type": "code",
   "execution_count": 6,
   "metadata": {},
   "outputs": [
    {
     "name": "stdout",
     "output_type": "stream",
     "text": [
      "98\n",
      "36\n",
      "35.67\n",
      "<class 'list'>\n",
      "Help on built-in function sorted in module builtins:\n",
      "\n",
      "sorted(iterable, /, *, key=None, reverse=False)\n",
      "    Return a new list containing all items from the iterable in ascending order.\n",
      "    \n",
      "    A custom key function can be supplied to customize the sort order, and the\n",
      "    reverse flag can be set to request the result in descending order.\n",
      "\n",
      "PYTHON\n"
     ]
    }
   ],
   "source": [
    "#functions:-\n",
    "#built-in Function\n",
    "weight=[23,45,67,12,65,98,34]\n",
    "print(max(weight)) #maximum number\n",
    "\n",
    "#round Function\n",
    "print(round(35.66)) #print round up value\n",
    "print(round(35.666,2)) #prints 2 digits after decimal\n",
    "\n",
    "#type function\n",
    "weight=[12,3434,465]\n",
    "print(type(weight)) #prints type of class\n",
    "\n",
    "help(sorted) #help function shows description of function which has been passed in it.\n",
    "\n",
    "#upper Function\n",
    "mystr=\"python\"\n",
    "print(mystr.upper())\n",
    "\n",
    "#index function\n"
   ]
  },
  {
   "cell_type": "code",
   "execution_count": 7,
   "metadata": {},
   "outputs": [
    {
     "name": "stdout",
     "output_type": "stream",
     "text": [
      "Hello World\n"
     ]
    }
   ],
   "source": [
    "#user defind fucntions:-\n",
    "def my_function():  \n",
    "    print(\"Hello World\")\n",
    "    \n",
    "my_function()"
   ]
  },
  {
   "cell_type": "code",
   "execution_count": 10,
   "metadata": {},
   "outputs": [
    {
     "name": "stdout",
     "output_type": "stream",
     "text": [
      "First Argument is:  Hello\n",
      "Second Argument is:  Muhammed\n",
      "Third Argument is:  ('Kazi',)\n",
      "<class 'tuple'>\n"
     ]
    }
   ],
   "source": [
    "#*args \n",
    "#*args is used to pass 0 or more values.\n",
    "def my_args(first_arg,ra,*args):\n",
    "    print(\"First Argument is: \",first_arg)\n",
    "    print(\"Second Argument is: \",ra)\n",
    "    print(\"Third Argument is: \",args)\n",
    "    print(type(args))\n",
    "    \n",
    "my_args(\"Hello\",\"Muhammed\",\"Kazi\")\n",
    "    "
   ]
  },
  {
   "cell_type": "code",
   "execution_count": 11,
   "metadata": {},
   "outputs": [
    {
     "name": "stdout",
     "output_type": "stream",
     "text": [
      "{'name': 'Muhammed', 'age': 22}\n"
     ]
    }
   ],
   "source": [
    "#**args\n",
    "#using ** we can pass dictionary to function\n",
    "def doublestar_args(**args):\n",
    "    print(str(args))\n",
    "    \n",
    "doublestar_args(name=\"Muhammed\",age=22)"
   ]
  },
  {
   "cell_type": "code",
   "execution_count": 21,
   "metadata": {},
   "outputs": [
    {
     "name": "stdout",
     "output_type": "stream",
     "text": [
      "9\n",
      "50\n"
     ]
    }
   ],
   "source": [
    "#lambda function\n",
    "#another way to write function\n",
    "#lamba function can be writen in one line.\n",
    "#function_name= lambda argument : calculation\n",
    "add = (lambda value1,value2:value1+value2)\n",
    "print(add(5,4))\n",
    "\n",
    "min=lambda x,y:x if x<y else y\n",
    "print(min(100,50))"
   ]
  },
  {
   "cell_type": "code",
   "execution_count": 18,
   "metadata": {},
   "outputs": [
    {
     "name": "stdout",
     "output_type": "stream",
     "text": [
      "8\n",
      "8\n",
      "7\n",
      "6\n"
     ]
    }
   ],
   "source": [
    "#normal program to find lenghth of every element in a list.\n",
    "list1=[\"muhammed\",\"altamash\",\"shahbaj\",\"zareen\"]\n",
    "for i in list1:\n",
    "    print(len(i))"
   ]
  },
  {
   "cell_type": "code",
   "execution_count": 20,
   "metadata": {},
   "outputs": [
    {
     "data": {
      "text/plain": [
       "2"
      ]
     },
     "execution_count": 20,
     "metadata": {},
     "output_type": "execute_result"
    }
   ],
   "source": [
    "#using lambda to find lenmgth of list\n",
    "length=lambda list1:len(list1) \n",
    "list2=[\"muhammed\",\"kazi\"]\n",
    "length(list2)"
   ]
  },
  {
   "cell_type": "code",
   "execution_count": 29,
   "metadata": {},
   "outputs": [
    {
     "name": "stdout",
     "output_type": "stream",
     "text": [
      "[1, 4, 9, 16]\n"
     ]
    }
   ],
   "source": [
    "#map() is used to map function and objects such as list, tuple,etc\n",
    "def square(x):\n",
    "    return x*x\n",
    "\n",
    "list1=[1,2,3,4]\n",
    "squarekaro=map(square,list1)\n",
    "print(list(squarekaro))"
   ]
  },
  {
   "cell_type": "code",
   "execution_count": 30,
   "metadata": {},
   "outputs": [
    {
     "name": "stdout",
     "output_type": "stream",
     "text": [
      "['Shahbaj']\n"
     ]
    }
   ],
   "source": [
    "#filter\n",
    "#add those elements whose first starts with S using lambda and filter.\n",
    "mylist=[\"Muhammed\",\"Kazi\",\"Altamash\",\"Shahbaj\"]\n",
    "print(list(filter(lambda x: x[0]=='S',mylist)))"
   ]
  },
  {
   "cell_type": "code",
   "execution_count": 31,
   "metadata": {},
   "outputs": [
    {
     "name": "stdout",
     "output_type": "stream",
     "text": [
      "120\n"
     ]
    }
   ],
   "source": [
    "#reduce\n",
    "from functools import reduce\n",
    "mylist1=[1,2,3,4,5]\n",
    "factorial=reduce(lambda x,y:x*y,mylist1)\n",
    "print(factorial)"
   ]
  },
  {
   "cell_type": "code",
   "execution_count": 34,
   "metadata": {},
   "outputs": [
    {
     "name": "stdout",
     "output_type": "stream",
     "text": [
      "120\n"
     ]
    }
   ],
   "source": [
    "# another way\n",
    "from functools import reduce\n",
    "mylist3=list(range(0,16))\n",
    "factorial=reduce(lambda x,y:x+y,mylist3)\n",
    "print(factorial)"
   ]
  },
  {
   "cell_type": "code",
   "execution_count": 3,
   "metadata": {},
   "outputs": [
    {
     "name": "stdout",
     "output_type": "stream",
     "text": [
      "[10 20 30 40]\n",
      "<class 'numpy.ndarray'>\n",
      "[[10 20 30 40]\n",
      " [50 60 70 80]]\n",
      "<class 'numpy.ndarray'>\n"
     ]
    }
   ],
   "source": [
    "#numpy\n",
    "\n",
    "import numpy as np #importing numpy\n",
    "n1=np.array([10,20,30,40]) #we are passing list to array function & it converts it into numpy array\n",
    "print(n1)\n",
    "print(type(n1))\n",
    "\n",
    "n2=np.array([[10,20,30,40], #2D array\n",
    "             [50,60,70,80]])\n",
    "print(n2)\n",
    "print(type(n2))"
   ]
  },
  {
   "cell_type": "code",
   "execution_count": 5,
   "metadata": {},
   "outputs": [
    {
     "data": {
      "text/plain": [
       "array([97, 86,  5, 15, 19])"
      ]
     },
     "execution_count": 5,
     "metadata": {},
     "output_type": "execute_result"
    }
   ],
   "source": [
    "import numpy as np\n",
    "n1=np.random.randint(1,100,5) #randint() generates random numbers\n",
    "# 1 is initialization, 100 is last number, we will get total 5 random numbers\n",
    "n1"
   ]
  },
  {
   "cell_type": "code",
   "execution_count": 11,
   "metadata": {},
   "outputs": [
    {
     "name": "stdout",
     "output_type": "stream",
     "text": [
      "[10]\n",
      "[20 30 40 50]\n",
      "[ 70  80  90 100]\n"
     ]
    }
   ],
   "source": [
    "import numpy as np\n",
    "n1=np.array([10,20,30,40,50])\n",
    "n2=np.array([10,70,80,90,100])\n",
    "n3=np.intersect1d(n1,n2) #displays common elemnts from both arrays\n",
    "print(n3)\n",
    "\n",
    "\n",
    "n4=np.setdiff1d(n1,n2) #removes common elements from both and displays elements from n1\n",
    "print(n4)\n",
    "\n",
    "n5= np.setdiff1d(n2,n1) #removes common elements from both and displays elements from n2\n",
    "print(n5)"
   ]
  },
  {
   "cell_type": "code",
   "execution_count": 16,
   "metadata": {},
   "outputs": [
    {
     "name": "stdout",
     "output_type": "stream",
     "text": [
      "[ 5 10 15 20 25]\n"
     ]
    }
   ],
   "source": [
    "#broadcasting:-\n",
    "#reaching to each element\n",
    "\n",
    "import numpy as np\n",
    "list1=[1,2,3,4,5]\n",
    "n1=np.array(list1)\n",
    "n2=n1*5 #broadcaasting to every element\n",
    "#multiplying every element by 5 in array\n",
    "print(n2)"
   ]
  },
  {
   "cell_type": "code",
   "execution_count": 20,
   "metadata": {},
   "outputs": [
    {
     "name": "stdout",
     "output_type": "stream",
     "text": [
      "[ 8.26446281  0.35555556  0.43547685  0.47258979 22.22222222]\n"
     ]
    }
   ],
   "source": [
    "import numpy as np\n",
    "weight=[10,20,30,40,50]\n",
    "height=[1.1,7.5,8.3,9.2,1.5] \n",
    "weight_np=np.array(weight)\n",
    "height_np=np.array(height)\n",
    "\n",
    "bmi=weight_np/height_np**2 \n",
    "print(bmi)"
   ]
  },
  {
   "cell_type": "code",
   "execution_count": 30,
   "metadata": {},
   "outputs": [
    {
     "name": "stdout",
     "output_type": "stream",
     "text": [
      "[50 60 46 98 66]\n",
      "46\n",
      "[46 98]\n",
      "[False False False  True  True]\n",
      "[98 66]\n"
     ]
    }
   ],
   "source": [
    "import numpy as np\n",
    "\n",
    "weight=[50,60,46,98,66]\n",
    "n1=np.array(weight)\n",
    "print(n1)\n",
    "print(n1[2]) #value at 2nd index\n",
    "print(n1[2:4]) #value from 2nd index to 4th index\n",
    "print(n1>65) #checks all elements are greater than 65 and true or false for every element\n",
    "print(n1[n1>65]) #ceates array of nmbers greater than 65"
   ]
  },
  {
   "cell_type": "code",
   "execution_count": 36,
   "metadata": {},
   "outputs": [
    {
     "name": "stdout",
     "output_type": "stream",
     "text": [
      "[[10.  20.  30.  40.  50. ]\n",
      " [ 1.1  7.5  8.3  9.2  1.5]]\n",
      "(2, 5)\n",
      "(3, 2, 5)\n"
     ]
    }
   ],
   "source": [
    "#2D Numpy array\n",
    "import numpy as np\n",
    "\n",
    "weight=[10,20,30,40,50]\n",
    "height=[1.1,7.5,8.3,9.2,1.5]\n",
    "\n",
    "twoD_array=np.array([weight,height])\n",
    "print(twoD_array)\n",
    "print(twoD_array.shape)\n",
    "\n",
    "threeD_array=np.array([[weight,height],[weight,height],[weight,height]])\n",
    "print(threeD_array.shape)"
   ]
  },
  {
   "cell_type": "code",
   "execution_count": 54,
   "metadata": {},
   "outputs": [
    {
     "name": "stdout",
     "output_type": "stream",
     "text": [
      "2D array is: [[10.  20.  30.  40.  50. ]\n",
      " [ 1.1  7.5  8.3  9.2  1.5]]\n",
      "2D array's 1st row is: [10. 20. 30. 40. 50.]\n",
      "2D array's 1st row's 3rd element is: 30.0\n",
      "2D array's 1st row's 2nd element to 4th element is: [20. 30.]\n",
      "All rows's 3rd and 4th column is:-  [[30.  40. ]\n",
      " [ 8.3  9.2]]\n"
     ]
    }
   ],
   "source": [
    "import numpy as np\n",
    "\n",
    "weight=[10,20,30,40,50]\n",
    "height=[1.1,7.5,8.3,9.2,1.5]\n",
    "\n",
    "twoD_array=np.array([weight,height])\n",
    "print(\"2D array is:\",twoD_array)\n",
    "print(\"2D array's 1st row is:\",twoD_array[0]) #prints 1st row\n",
    "print(\"2D array's 1st row's 3rd element is:\",twoD_array[0,2]) #prints 1st row's 3rd element\n",
    "print(\"2D array's 1st row's 2nd element to 4th element is:\",twoD_array[0,1:3]) #prints 1st row's 2nd to 4th element\n",
    "\n",
    "print(\"All rows's 3rd and 4th column is:- \",twoD_array[:,2:4])\n",
    "\n",
    "\n"
   ]
  },
  {
   "cell_type": "code",
   "execution_count": null,
   "metadata": {},
   "outputs": [],
   "source": [
    "# pandas:-\n",
    "# shape()\n",
    "# head()\n",
    "# describe()\n",
    "# tail()"
   ]
  },
  {
   "cell_type": "code",
   "execution_count": 57,
   "metadata": {},
   "outputs": [
    {
     "name": "stdout",
     "output_type": "stream",
     "text": [
      "[[1 2]\n",
      " [3 4]]\n",
      "[[-2.   1. ]\n",
      " [ 1.5 -0.5]]\n"
     ]
    }
   ],
   "source": [
    "import numpy as np\n",
    "nums=np.arange(1,5).reshape((2,2))\n",
    "print(nums)\n",
    "print(np.linalg.inv(nums))"
   ]
  },
  {
   "cell_type": "code",
   "execution_count": 9,
   "metadata": {},
   "outputs": [
    {
     "name": "stdout",
     "output_type": "stream",
     "text": [
      "0    1\n",
      "1    2\n",
      "2    3\n",
      "3    4\n",
      "dtype: int64\n"
     ]
    },
    {
     "data": {
      "text/plain": [
       "pandas.core.series.Series"
      ]
     },
     "execution_count": 9,
     "metadata": {},
     "output_type": "execute_result"
    }
   ],
   "source": [
    "#--------------------pandas----------------------\n",
    "# pandas- panel data\n",
    "# used for data manipulation and data analysis\n",
    "import pandas as pd\n",
    "series1=pd.Series([1,2,3,4]) #a list is passed to Series()\n",
    "print(series1) #it will print index and values\n",
    "type(series1)"
   ]
  },
  {
   "cell_type": "code",
   "execution_count": 10,
   "metadata": {},
   "outputs": [
    {
     "name": "stdout",
     "output_type": "stream",
     "text": [
      "a    1\n",
      "b    2\n",
      "c    3\n",
      "d    4\n",
      "dtype: int64\n"
     ]
    }
   ],
   "source": [
    "import pandas as pd\n",
    "series1=pd.Series([1,2,3,4],index=['a','b','c','d']) #index attribute of Series() changes index values from 0,1,2,3 to a,b,c,d\n",
    "print(series1)"
   ]
  },
  {
   "cell_type": "code",
   "execution_count": 12,
   "metadata": {},
   "outputs": [
    {
     "name": "stdout",
     "output_type": "stream",
     "text": [
      "a    10\n",
      "b    20\n",
      "c    30\n",
      "d    40\n",
      "dtype: int64\n"
     ]
    },
    {
     "data": {
      "text/plain": [
       "pandas.core.series.Series"
      ]
     },
     "execution_count": 12,
     "metadata": {},
     "output_type": "execute_result"
    }
   ],
   "source": [
    "import pandas as pd\n",
    "series1=pd.Series({'a':10,'b':20,'c':30,'d':40}) #a dictionary is passed to Series()\n",
    "# here we are passing only one value to a key\n",
    "print(series1) #it will print key and values\n",
    "type(series1)"
   ]
  },
  {
   "cell_type": "code",
   "execution_count": 17,
   "metadata": {},
   "outputs": [
    {
     "name": "stdout",
     "output_type": "stream",
     "text": [
      "<class 'pandas.core.frame.DataFrame'>\n"
     ]
    }
   ],
   "source": [
    "import pandas as pd\n",
    "df1=pd.DataFrame({'Name':['Muhammed','Altamash','Shahbaj'],'Marks':[76,55,45]})\n",
    "# here we are passing a list to every key, that list is having multiple values.\n",
    "print(df1)\n",
    "print(type(df1))"
   ]
  },
  {
   "cell_type": "code",
   "execution_count": 23,
   "metadata": {},
   "outputs": [
    {
     "name": "stdout",
     "output_type": "stream",
     "text": [
      "<class 'pandas.core.indexes.datetimes.DatetimeIndex'>\n",
      "DatetimeIndex(['2018-01-01', '2018-01-02', '2018-01-03', '2018-01-04',\n",
      "               '2018-01-05', '2018-01-06', '2018-01-07', '2018-01-08',\n",
      "               '2018-01-09', '2018-01-10', '2018-01-11', '2018-01-12',\n",
      "               '2018-01-13', '2018-01-14', '2018-01-15', '2018-01-16',\n",
      "               '2018-01-17', '2018-01-18', '2018-01-19', '2018-01-20',\n",
      "               '2018-01-21', '2018-01-22', '2018-01-23', '2018-01-24',\n",
      "               '2018-01-25', '2018-01-26', '2018-01-27', '2018-01-28',\n",
      "               '2018-01-29', '2018-01-30', '2018-01-31'],\n",
      "              dtype='datetime64[ns]', freq='D')\n"
     ]
    }
   ],
   "source": [
    "# head() -shows top 5 rows\n",
    "# tail() - shows last row\n",
    "\n",
    "d_series=pd.date_range(start='01-01-2018',end='31-01-2018')\n",
    "print(type(d_series))\n",
    "print(d_series)"
   ]
  },
  {
   "cell_type": "code",
   "execution_count": 26,
   "metadata": {},
   "outputs": [
    {
     "name": "stdout",
     "output_type": "stream",
     "text": [
      "<class 'dict'>\n",
      "    state    Capital  Population\n",
      "0  Sikkim    Gangtok       46.77\n",
      "1  Gujrat  Ahmedabad       66.04\n",
      "2   Bihar      Patna       80.64\n",
      "3      UP    Lucknow       90.55\n"
     ]
    }
   ],
   "source": [
    "india_dict={\"state\":[\"Sikkim\",\"Gujrat\",\"Bihar\",\"UP\"],\n",
    "            \"Capital\":[\"Gangtok\",\"Ahmedabad\",\"Patna\",\"Lucknow\"],\n",
    "            \"Population\":[46.77,66.04,80.64,90.55]}\n",
    "print(type(india_dict))\n",
    "import pandas as pd\n",
    "india_dataframe=pd.DataFrame(india_dict)\n",
    "print(india_dataframe)"
   ]
  },
  {
   "cell_type": "code",
   "execution_count": 31,
   "metadata": {},
   "outputs": [
    {
     "name": "stdout",
     "output_type": "stream",
     "text": [
      "         country    capital    area  population\n",
      "BR        Brazil   Brasilia   8.516      200.40\n",
      "RU        Russia     Moscow  17.100      143.50\n",
      "IN         India  New Delhi   3.286     1252.00\n",
      "CH         China    Beijing   9.597     1357.00\n",
      "SA  South Africa   Pretoria   1.221       52.98\n"
     ]
    }
   ],
   "source": [
    "#difference between series and dtaframe is that\n",
    "# we can have only one value in series\n",
    "# whereas in dataframe we can have multiple values in columns\n",
    "\n",
    "# importing from csv\n",
    "brics_csv=r\"C:\\Users\\admin\\Downloads\\Pandas\\Datasets\\GovtData\\brics.csv\"\n",
    "brics_dataframe=pd.read_csv(brics_csv,index_col=0) #index_col=0 means dont diplay index values\n",
    "print(brics_dataframe)\n"
   ]
  },
  {
   "cell_type": "code",
   "execution_count": 35,
   "metadata": {},
   "outputs": [
    {
     "name": "stdout",
     "output_type": "stream",
     "text": [
      "     Ord_id  Prod_id   Ship_id    Cust_id    Sales  Discount  Order_Quantity  \\\n",
      "0  Ord_5446  Prod_16  SHP_7609  Cust_1818   136.81      0.01              23   \n",
      "1  Ord_5406  Prod_13  SHP_7549  Cust_1818    42.27      0.01              13   \n",
      "2  Ord_5446   Prod_4  SHP_7610  Cust_1818  4701.69      0.00              26   \n",
      "3  Ord_5456   Prod_6  SHP_7625  Cust_1818  2337.89      0.09              43   \n",
      "4  Ord_5485  Prod_17  SHP_7664  Cust_1818  4233.15      0.08              35   \n",
      "\n",
      "    Profit  Shipping_Cost  Product_Base_Margin  \n",
      "0   -30.51           3.60                 0.56  \n",
      "1     4.56           0.93                 0.54  \n",
      "2  1148.90           2.50                 0.59  \n",
      "3   729.34          14.30                 0.37  \n",
      "4  1219.87          26.30                 0.38  \n",
      "     Ord_id  Prod_id   Ship_id    Cust_id    Sales  Discount  Order_Quantity  \\\n",
      "0  Ord_5446  Prod_16  SHP_7609  Cust_1818   136.81      0.01              23   \n",
      "1  Ord_5406  Prod_13  SHP_7549  Cust_1818    42.27      0.01              13   \n",
      "2  Ord_5446   Prod_4  SHP_7610  Cust_1818  4701.69      0.00              26   \n",
      "3  Ord_5456   Prod_6  SHP_7625  Cust_1818  2337.89      0.09              43   \n",
      "4  Ord_5485  Prod_17  SHP_7664  Cust_1818  4233.15      0.08              35   \n",
      "\n",
      "    Profit  Shipping_Cost  Product_Base_Margin  \n",
      "0   -30.51           3.60                 0.56  \n",
      "1     4.56           0.93                 0.54  \n",
      "2  1148.90           2.50                 0.59  \n",
      "3   729.34          14.30                 0.37  \n",
      "4  1219.87          26.30                 0.38  \n"
     ]
    }
   ],
   "source": [
    "market=r\"C:\\Users\\admin\\Downloads\\Pandas\\Datasets\\ECommerce\\market_fact.csv\"\n",
    "market_dataframe=pd.read_csv(market)\n",
    "print(market_dataframe.head()) #displays first 5 rows.\n",
    "\n",
    "market_df2=pd.read_csv(market,index_col=0)\n",
    "print(market_dataframe.head()) #displays first 5 rows"
   ]
  },
  {
   "cell_type": "code",
   "execution_count": null,
   "metadata": {},
   "outputs": [],
   "source": []
  }
 ],
 "metadata": {
  "kernelspec": {
   "display_name": "Python 3",
   "language": "python",
   "name": "python3"
  },
  "language_info": {
   "codemirror_mode": {
    "name": "ipython",
    "version": 3
   },
   "file_extension": ".py",
   "mimetype": "text/x-python",
   "name": "python",
   "nbconvert_exporter": "python",
   "pygments_lexer": "ipython3",
   "version": "3.8.3"
  }
 },
 "nbformat": 4,
 "nbformat_minor": 4
}
